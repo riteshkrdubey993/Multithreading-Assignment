{
 "cells": [
  {
   "cell_type": "markdown",
   "id": "dd637f6e-7f9c-443f-be2c-9712ceb27536",
   "metadata": {},
   "source": [
    "### Q1. What is multithreading in python? Why is it used? Name the module used to handle threads in python."
   ]
  },
  {
   "cell_type": "markdown",
   "id": "a66f7c75-0f7f-43a5-9bc9-1b4c94eca55d",
   "metadata": {},
   "source": [
    "Multithreading in Python refers to the concurrent execution of multiple threads within a single program. A thread is the smallest unit of execution within a process, and multithreading allows multiple threads to run concurrently, potentially improving the program's performance by taking advantage of multiple CPU cores. In Python, multithreading is often used for tasks that can be parallelized, such as I/O-bound operations, but it's important to note that due to the Global Interpreter Lock (GIL) in CPython, true parallel execution of threads is limited.\n",
    "\n",
    "The primary module used for handling threads in Python is the threading module. This module provides a convenient way to create and manage threads, along with synchronization primitives such as locks, semaphores, and conditions. The threading module is part of the Python standard library and is widely used for implementing multithreaded programs."
   ]
  },
  {
   "cell_type": "code",
   "execution_count": 6,
   "id": "db3e42fd-bbad-4fab-840d-9e268dccba66",
   "metadata": {},
   "outputs": [
    {
     "name": "stdout",
     "output_type": "stream",
     "text": [
      "Thread-1 0\n",
      "Thread-2 0\n",
      "Thread-1 1\n",
      "Thread-2 1\n",
      "Thread-1 2\n",
      "Thread-2 2\n",
      "Thread-1 3\n",
      "Thread-2 3\n",
      "Thread-1 4\n",
      "Thread-2 4\n",
      "Thread-1 5\n",
      "Thread-2 5\n",
      "Thread-1 6\n",
      "Thread-2 6\n",
      "Thread-1 7\n",
      "Thread-2 7\n",
      "Thread-1 8\n",
      "Thread-2 8\n",
      "Thread-1 9\n",
      "Thread-2 9\n"
     ]
    }
   ],
   "source": [
    "import threading\n",
    "import time\n",
    "\n",
    "def print_number():\n",
    "    for i in range(10):\n",
    "        time.sleep(1)\n",
    "        print(threading.current_thread().name,i)\n",
    "        \n",
    "        \n",
    "Thread1 = threading.Thread(target = print_number, name = 'Thread-1')\n",
    "Thread2 = threading.Thread(target = print_number, name = 'Thread-2')\n",
    "\n",
    "Thread1.start()\n",
    "Thread2.start()\n",
    "\n",
    "Thread1.join()\n",
    "Thread2.join()"
   ]
  },
  {
   "cell_type": "markdown",
   "id": "f2958e9e-9480-483b-94ec-6a16e6f4a059",
   "metadata": {},
   "source": [
    "### Q2 Why threading module used? Write the use of the following functions:\n",
    "\n",
    "1. activeCount()\n",
    "2. currentThread()\n",
    "3. enumerate()"
   ]
  },
  {
   "cell_type": "markdown",
   "id": "5370df1e-4e48-4d92-89d8-2e0024b2a69e",
   "metadata": {},
   "source": [
    "The threading module in Python is used for working with threads, allowing developers to create, manage, and synchronize threads within a Python program. It provides a higher-level interface to working with threads compared to the lower-level thread module. The threading module includes various functions and classes for thread creation, synchronization, and management.\n",
    "\n",
    "1. activeCount() Function: The activeCount() function is used to get the number of Thread objects currently alive."
   ]
  },
  {
   "cell_type": "code",
   "execution_count": 1,
   "id": "48ed520c-3d96-4976-8703-d52ed5432fd3",
   "metadata": {},
   "outputs": [
    {
     "name": "stdout",
     "output_type": "stream",
     "text": [
      "Thread is running.\n",
      "Thread is running.\n",
      "8\n"
     ]
    }
   ],
   "source": [
    "import threading\n",
    "\n",
    "def my_function():\n",
    "    print(\"Thread is running.\")\n",
    "    \n",
    "threading1 = threading.Thread(target=my_function)\n",
    "threading2 = threading.Thread(target=my_function)\n",
    "\n",
    "threading1.start()\n",
    "threading2.start()\n",
    "\n",
    "active_count = threading.active_count()\n",
    "print(active_count)"
   ]
  },
  {
   "cell_type": "markdown",
   "id": "465bc490-5993-4788-aa42-58670c87b06c",
   "metadata": {},
   "source": [
    "2. currentThread() Function: The currentThread() function returns the current Thread object corresponding to the caller's thread of control.\n",
    "In this example, currentThread() is used to obtain the current thread object and print its name."
   ]
  },
  {
   "cell_type": "code",
   "execution_count": 5,
   "id": "74731853-a616-4fa9-9825-072d8788b147",
   "metadata": {},
   "outputs": [
    {
     "name": "stdout",
     "output_type": "stream",
     "text": [
      "<Thread(My_thread, started 140121008498240)>\n"
     ]
    }
   ],
   "source": [
    "import threading\n",
    "\n",
    "def Current_thread():\n",
    "    current_threading = threading.current_thread()\n",
    "    print(current_threading)\n",
    "    \n",
    "my_thread = threading.Thread(target = Current_thread, name = 'My_thread')\n",
    "\n",
    "my_thread.start()"
   ]
  },
  {
   "cell_type": "markdown",
   "id": "92b5e2b1-468e-4d6d-80a0-08207aa2fde7",
   "metadata": {},
   "source": [
    "3. enumerate() Function: The enumerate() function returns a list of all Thread objects currently alive."
   ]
  },
  {
   "cell_type": "code",
   "execution_count": 7,
   "id": "feaa2189-17ec-418e-9329-b6d99c01ffac",
   "metadata": {},
   "outputs": [
    {
     "name": "stdout",
     "output_type": "stream",
     "text": [
      "MainThread\n",
      "IOPub\n",
      "Heartbeat\n",
      "Thread-3 (_watch_pipe_fd)\n",
      "Thread-4 (_watch_pipe_fd)\n",
      "Control\n",
      "IPythonHistorySavingThread\n",
      "Thread-2\n",
      "Thread-1\n",
      "MainThread\n",
      "IOPub\n",
      "Heartbeat\n",
      "Thread-3 (_watch_pipe_fd)\n",
      "Thread-4 (_watch_pipe_fd)\n",
      "Control\n",
      "IPythonHistorySavingThread\n",
      "Thread-2\n",
      "Thread-2\n"
     ]
    }
   ],
   "source": [
    "import threading\n",
    "\n",
    "def live_thread():\n",
    "    for thread in threading.enumerate():\n",
    "        print(thread.name)\n",
    "        \n",
    "thread1 = threading.Thread(target = live_thread, name = 'Thread-1')\n",
    "thread2 = threading.Thread(target = live_thread, name = 'Thread-2')\n",
    "\n",
    "thread1.start()\n",
    "thread2.start()\n",
    "\n",
    "thread1.join()\n",
    "thread2.join()"
   ]
  },
  {
   "cell_type": "markdown",
   "id": "5c432621-35b8-43e5-8d00-16733214b3d9",
   "metadata": {},
   "source": [
    "### Q3. Explain the following functions\n",
    "1. run()\n",
    "2. start()\n",
    "3. join()\n",
    "4. isAlive()"
   ]
  },
  {
   "cell_type": "markdown",
   "id": "16924441-4f5e-4eac-9c3f-c6289b431679",
   "metadata": {},
   "source": [
    "The functions run(), start(), join(), and isAlive() are related to the management and control of threads in Python, particularly within the context of the threading module. Here's an explanation of each:\n",
    "\n",
    "1. run() Method: The run() method is the entry point for the thread's activity. It is called when the start() method is invoked on a Thread object. In this example, the run() method is overridden in the MyThread class to define the behavior of the thread when it is started."
   ]
  },
  {
   "cell_type": "code",
   "execution_count": 5,
   "id": "ef1bedc3-12b7-4008-9ff4-f6030d3b0df6",
   "metadata": {},
   "outputs": [
    {
     "name": "stdout",
     "output_type": "stream",
     "text": [
      "Thread is running\n"
     ]
    }
   ],
   "source": [
    "import threading\n",
    "\n",
    "class MyThread(threading.Thread):\n",
    "    def run(self):\n",
    "        print('Thread is running')\n",
    "    \n",
    "my_thread = MyThread()\n",
    "my_thread.start()"
   ]
  },
  {
   "cell_type": "markdown",
   "id": "46ba97a0-203b-40f3-a47c-2c0bc23af7fa",
   "metadata": {},
   "source": [
    "2. start() Method: The start() method is used to initiate the execution of the thread. It begins the thread's activity and calls the run() method in a separate thread of control.In this example, the start() method is used to start the execution of the thread, which, in turn, calls the my_fun target."
   ]
  },
  {
   "cell_type": "code",
   "execution_count": 7,
   "id": "ec8e309e-ba96-4553-8175-06739a077e2d",
   "metadata": {},
   "outputs": [
    {
     "name": "stdout",
     "output_type": "stream",
     "text": [
      "My thread is running\n"
     ]
    }
   ],
   "source": [
    "import threading\n",
    "\n",
    "def my_fun():\n",
    "    print('My thread is running')\n",
    "    \n",
    "my_thread = threading.Thread(target = my_fun)\n",
    "my_thread.start()"
   ]
  },
  {
   "cell_type": "markdown",
   "id": "96f57cb5-419d-4821-b1a7-e21d90bb5137",
   "metadata": {},
   "source": [
    "3. join() Method: The join() method is used to wait for the thread to complete its execution. It blocks the calling thread until the thread whose join() method is called has finished. In this example, the join() method is used to wait for the my_thread to finish before proceeding with the main program."
   ]
  },
  {
   "cell_type": "code",
   "execution_count": 8,
   "id": "75f95f46-7065-4b31-a8ad-9dd335ecfb27",
   "metadata": {},
   "outputs": [
    {
     "name": "stdout",
     "output_type": "stream",
     "text": [
      "My thread is running\n"
     ]
    }
   ],
   "source": [
    "import threading\n",
    "\n",
    "def my_fun():\n",
    "    print('My thread is running')\n",
    "    \n",
    "my_thread = threading.Thread(target = my_fun)\n",
    "my_thread.start()\n",
    "my_thread.join()"
   ]
  },
  {
   "cell_type": "markdown",
   "id": "a742015a-1b4b-4857-9de7-fd2445eaf44e",
   "metadata": {},
   "source": [
    "4. isAlive() Method: The isAlive() method is used to check whether the thread is currently executing (alive) or has finished its execution. In this example, the is_alive() method is used to check if the my_thread is still running, and a message is printed accordingly."
   ]
  },
  {
   "cell_type": "code",
   "execution_count": 14,
   "id": "d6d5dd51-6075-40bd-93a5-d62110cefa65",
   "metadata": {},
   "outputs": [
    {
     "name": "stdout",
     "output_type": "stream",
     "text": [
      "Thread is running\n",
      "Thread is running\n",
      "Thread is running\n",
      "Thread is running\n",
      "Thread is running\n",
      "Thread is running\n",
      "Thread is running\n",
      "Thread is running\n",
      "Thread is running\n",
      "Thread is running\n",
      "Thread is finished\n"
     ]
    }
   ],
   "source": [
    "import threading\n",
    "import time\n",
    "\n",
    "def my_fun():\n",
    "    time.sleep(10)\n",
    "    \n",
    "my_thread = threading.Thread(target = my_fun)\n",
    "my_thread.start()\n",
    "\n",
    "while my_thread.is_alive():\n",
    "    print('Thread is running')\n",
    "    time.sleep(1)\n",
    "    \n",
    "print('Thread is finished')"
   ]
  },
  {
   "cell_type": "markdown",
   "id": "412aa9fb-41bd-4076-aac9-4eb1b76d9468",
   "metadata": {},
   "source": [
    "### Q4. Write a python program to create two threads. Thread one must print the list of squares and thread two must print the list of cubes"
   ]
  },
  {
   "cell_type": "code",
   "execution_count": 18,
   "id": "032d1b8f-08bc-49e8-aa13-51cd2403df45",
   "metadata": {},
   "outputs": [
    {
     "name": "stdout",
     "output_type": "stream",
     "text": [
      "1\n",
      "1\n",
      "4\n",
      "8\n",
      "9\n",
      "27\n",
      "16\n",
      "64\n",
      "25\n",
      "125\n"
     ]
    }
   ],
   "source": [
    "import threading\n",
    "import time\n",
    "\n",
    "def square(number):\n",
    "    for i in number:\n",
    "        print(i**2)\n",
    "        time.sleep(1)\n",
    "        \n",
    "def cube(number):\n",
    "    for i in number:\n",
    "        print(i**3)\n",
    "        time.sleep(1)\n",
    "\n",
    "num = [1, 2, 3, 4, 5]\n",
    "\n",
    "thread1 = threading.Thread(target = square, args=(num,))\n",
    "thread2 = threading.Thread(target = cube, args = (num, ))\n",
    "\n",
    "thread1.start()\n",
    "thread2.start()\n",
    "\n",
    "thread1.join()\n",
    "thread2.join()"
   ]
  },
  {
   "cell_type": "markdown",
   "id": "a94edf70-438d-4538-a0a3-2fd1bbd5b7ed",
   "metadata": {},
   "source": [
    "### Q5. State advantages and disadvantages of multithreading"
   ]
  },
  {
   "cell_type": "markdown",
   "id": "879c1ca2-a651-45ba-9325-2d67833c347f",
   "metadata": {},
   "source": [
    "Multithreading in a programming context has both advantages and disadvantages. It's important to consider these aspects based on the specific requirements and characteristics of the application. Here are some advantages and disadvantages of multithreading:\n",
    "\n",
    "### Advantages:\n",
    "\n",
    "1. Concurrency: Multithreading allows multiple threads to execute concurrently, enabling parallelism and potentially improving the overall performance of the program.\n",
    "2. Responsiveness: Multithreading can enhance the responsiveness of applications, especially in user interfaces. Background tasks can run in separate threads, ensuring that the user interface remains responsive to user input.\n",
    "3. Resource Sharing: Threads within a process share the same resources, such as memory space. This enables efficient communication and sharing of data between threads.\n",
    "4. Modularity: Multithreading allows for modular design. Different aspects of a program can be implemented as separate threads, making the code more modular and easier to maintain.\n",
    "5. Utilization of Multiple Cores: On multi-core systems, multithreading can lead to better utilization of available CPU cores, allowing for improved performance in certain scenarios.\n",
    "\n",
    "### Disadvantages:\n",
    "\n",
    "1. Complexity: Multithreading introduces complexity into the code. Managing synchronization, avoiding race conditions, and ensuring thread safety can be challenging and error-prone.\n",
    "2. Race Conditions: Without proper synchronization mechanisms, race conditions may occur, leading to unpredictable and undesirable behavior. Race conditions happen when multiple threads access shared data concurrently, and at least one of them modifies the data.\n",
    "3. Deadlocks: Deadlocks can occur when two or more threads are blocked because each is waiting for the other to release a resource. This can result in a complete halt of program execution.\n",
    "4. Debugging and Testing: Identifying and fixing issues related to multithreading can be more difficult than in single-threaded programs. Debugging tools and techniques for multithreaded applications may be complex.\n",
    "5. Overhead: Creating and managing threads incurs overhead. In certain scenarios, the overhead associated with thread creation, synchronization, and communication may outweigh the performance benefits gained from parallelism.\n",
    "6. Global Interpreter Lock (GIL): In some implementations of Python (e.g., CPython), the Global Interpreter Lock (GIL) restricts the execution of multiple threads in the same process. This can limit the potential performance gains from multithreading in CPU-bound tasks."
   ]
  },
  {
   "cell_type": "markdown",
   "id": "150bc8f5-e1b1-4a80-a343-39c536cfa6ff",
   "metadata": {},
   "source": [
    "### Q6. Explain deadlocks and race conditions."
   ]
  },
  {
   "cell_type": "markdown",
   "id": "de7fd8b3-36c9-4b7f-972a-99ccc43520ca",
   "metadata": {},
   "source": [
    "A deadlock is a situation in computing where two or more processes cannot proceed because each is waiting for the other to release a resource. In other words, a set of processes or threads becomes blocked indefinitely, each holding a resource and waiting to acquire a resource held by another process in the set. Deadlocks can occur in concurrent systems where multiple processes contend for shared resources.\n",
    "\n",
    "### Key conditions for a deadlock to occur:\n",
    "\n",
    "1. Mutual Exclusion: At least one resource must be held in a non-sharable mode, meaning that only one process at a time can use it.\n",
    "2. Hold and Wait: A process must be holding at least one resource and waiting to acquire additional resources that are currently held by other processes.\n",
    "3. No Preemption: Resources cannot be forcibly taken away from a process; they must be released voluntarily.\n",
    "4. Circular Wait: There must exist a circular chain of two or more processes, each waiting for a resource held by the next one in the chain.\n",
    "\n",
    "Deadlocks can be prevented, avoided, or detected and resolved. Strategies for deadlock prevention include resource allocation policies and ordering of resource requests. Deadlock avoidance involves ensuring that the system remains in a safe state, and deadlock detection involves periodically checking the system for the presence of deadlocks and resolving them if detected.\n",
    "\n",
    "### Race Conditions:\n",
    "\n",
    "A race condition occurs in a concurrent system when the behavior of a program depends on the relative timing of events, such as the order of execution of threads. It arises when two or more threads access shared data or resources, and the final outcome depends on the interleaving of their execution. The result of a race condition is often unpredictable and depends on the timing of the thread executions.\n",
    "\n",
    "### Key conditions for a race condition to occur:\n",
    "\n",
    "1. Shared Data: Multiple threads or processes must share data or resources.\n",
    "2. Non-Atomic Operations: The operations on shared data must not be atomic, meaning they are not indivisible. If one thread is modifying the data, another thread may access it in an inconsistent state.\n",
    "3. Lack of Synchronization: There is no proper synchronization mechanism in place to coordinate access to shared data. As a result, one thread's actions may interfere with another thread's actions.\n",
    "\n",
    "Race conditions can lead to data corruption, unexpected behavior, and bugs that are difficult to reproduce and diagnose. Synchronization mechanisms, such as locks, mutexes, and semaphores, are used to prevent race conditions by coordinating access to shared resources. Proper synchronization ensures that only one thread can access shared data at a time, preventing conflicts and maintaining data integrity."
   ]
  },
  {
   "cell_type": "code",
   "execution_count": null,
   "id": "dcdf4c5b-7ea8-4e67-97f3-643c51a3a6d8",
   "metadata": {},
   "outputs": [],
   "source": []
  }
 ],
 "metadata": {
  "kernelspec": {
   "display_name": "Python 3 (ipykernel)",
   "language": "python",
   "name": "python3"
  },
  "language_info": {
   "codemirror_mode": {
    "name": "ipython",
    "version": 3
   },
   "file_extension": ".py",
   "mimetype": "text/x-python",
   "name": "python",
   "nbconvert_exporter": "python",
   "pygments_lexer": "ipython3",
   "version": "3.10.8"
  }
 },
 "nbformat": 4,
 "nbformat_minor": 5
}
